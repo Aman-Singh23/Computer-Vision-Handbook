{
 "cells": [
  {
   "cell_type": "code",
   "execution_count": 1,
   "id": "108542a3",
   "metadata": {},
   "outputs": [],
   "source": [
    "#Managing the imports\n",
    "import cv2\n",
    "import numpy as np"
   ]
  },
  {
   "cell_type": "code",
   "execution_count": 2,
   "id": "5e48c764",
   "metadata": {},
   "outputs": [],
   "source": [
    "#reading a image from computer and taking dimensions\n",
    "img = cv2.imread('noisy.jpg')\n",
    "rows, cols = img.shape[:2]"
   ]
  },
  {
   "cell_type": "code",
   "execution_count": 3,
   "id": "eaecae68",
   "metadata": {},
   "outputs": [],
   "source": [
    "#Kernel Blurring using filter2D()\n",
    "kernel_25 = np.ones((25,25), np.float32) / 625.0\n",
    "output_kernel = cv2.filter2D(img, -1, kernel_25)"
   ]
  },
  {
   "cell_type": "code",
   "execution_count": 4,
   "id": "9cf3ecf8",
   "metadata": {},
   "outputs": [],
   "source": [
    "#Boxfilter and blur function blurring\n",
    "output_blur = cv2.blur(img, (25,25))\n",
    "output_box = cv2.boxFilter(img, -1, (5,5), normalize=False)"
   ]
  },
  {
   "cell_type": "code",
   "execution_count": 5,
   "id": "f165072e",
   "metadata": {},
   "outputs": [],
   "source": [
    "#gaussian Blur \n",
    "output_gaus = cv2.GaussianBlur(img, (5,5), 0)"
   ]
  },
  {
   "cell_type": "code",
   "execution_count": 6,
   "id": "3e393ac4",
   "metadata": {},
   "outputs": [],
   "source": [
    "#median Bur (reduction of noise)\n",
    "output_med = cv2.medianBlur(img, 5)"
   ]
  },
  {
   "cell_type": "code",
   "execution_count": 7,
   "id": "c5a95656",
   "metadata": {},
   "outputs": [],
   "source": [
    "#Bilateral filtering (Reduction of noise + Preserving of edges)\n",
    "\n",
    "output_bil = cv2.bilateralFilter(img, 5, 6, 6)"
   ]
  },
  {
   "cell_type": "code",
   "execution_count": 8,
   "id": "49a38b60",
   "metadata": {},
   "outputs": [],
   "source": [
    "cv2.imshow('kernel blur', output_kernel)\n",
    "cv2.imshow('Blur() output', output_blur)\n",
    "cv2.imshow('Box filter', output_box)\n",
    "cv2.imshow('Gaussian', output_gaus)\n",
    "cv2.imshow('Bilateral', output_bil)\n",
    "cv2.imshow('Median Blur', output_med)\n",
    "cv2.imshow('Original', img)\n",
    "cv2.waitKey(0)\n",
    "cv2.destroyAllWindows()"
   ]
  },
  {
   "cell_type": "code",
   "execution_count": null,
   "id": "6ae58f8f",
   "metadata": {},
   "outputs": [],
   "source": []
  }
 ],
 "metadata": {
  "kernelspec": {
   "display_name": "Python 3",
   "language": "python",
   "name": "python3"
  },
  "language_info": {
   "codemirror_mode": {
    "name": "ipython",
    "version": 3
   },
   "file_extension": ".py",
   "mimetype": "text/x-python",
   "name": "python",
   "nbconvert_exporter": "python",
   "pygments_lexer": "ipython3",
   "version": "3.8.8"
  }
 },
 "nbformat": 4,
 "nbformat_minor": 5
}
