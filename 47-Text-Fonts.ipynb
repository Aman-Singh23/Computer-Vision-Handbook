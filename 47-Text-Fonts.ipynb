{
 "cells": [
  {
   "cell_type": "code",
   "execution_count": 1,
   "id": "4348ca22",
   "metadata": {},
   "outputs": [],
   "source": [
    "#Import teh basic libraries\n",
    "import cv2\n",
    "import numpy as np"
   ]
  },
  {
   "cell_type": "code",
   "execution_count": 2,
   "id": "6a06250b",
   "metadata": {},
   "outputs": [],
   "source": [
    "#Creating a canvas of 800X500 (three Channels)\n",
    "canvas = np.zeros((800,500,3))"
   ]
  },
  {
   "cell_type": "code",
   "execution_count": 3,
   "id": "a6b7d591",
   "metadata": {},
   "outputs": [],
   "source": [
    "#List of all fonts \n",
    "fonts = [ cv2.FONT_HERSHEY_COMPLEX,\n",
    "        cv2.FONT_HERSHEY_DUPLEX, \n",
    "        cv2.FONT_HERSHEY_PLAIN, \n",
    "        cv2.FONT_HERSHEY_SIMPLEX, \n",
    "        cv2.FONT_HERSHEY_TRIPLEX,\n",
    "        cv2.FONT_HERSHEY_COMPLEX_SMALL,\n",
    "        cv2.FONT_HERSHEY_COMPLEX,\n",
    "        cv2.FONT_HERSHEY_SCRIPT_COMPLEX,\n",
    "        cv2.FONT_HERSHEY_SCRIPT_SIMPLEX ]"
   ]
  },
  {
   "cell_type": "code",
   "execution_count": 4,
   "id": "b8e2cf57",
   "metadata": {},
   "outputs": [],
   "source": [
    "position = (10,30)\n",
    "\n",
    "for i in range(0,8):\n",
    "    cv2.putText(canvas,\"Hello...I am Ninja\",position,fonts[i],1,(255,255,255),2,cv2.LINE_AA)\n",
    "    position = (position[0],position[1]+30)\n",
    "    \n",
    "    cv2.putText(canvas,\"Hello...I am Ninja\".lower(),position,fonts[i],1,(255,255,255),2,cv2.LINE_AA)\n",
    "    position = (position[0],position[1]+30)"
   ]
  },
  {
   "cell_type": "code",
   "execution_count": 5,
   "id": "92333a00",
   "metadata": {},
   "outputs": [],
   "source": [
    "#Displaying the canvas\n",
    "cv2.imshow('winname', canvas)\n",
    "cv2.waitKey(5000)\n",
    "cv2.destroyAllWindows()"
   ]
  },
  {
   "cell_type": "code",
   "execution_count": null,
   "id": "af3ce393",
   "metadata": {},
   "outputs": [],
   "source": []
  },
  {
   "cell_type": "code",
   "execution_count": null,
   "id": "6ab241f2",
   "metadata": {},
   "outputs": [],
   "source": []
  }
 ],
 "metadata": {
  "kernelspec": {
   "display_name": "Python 3",
   "language": "python",
   "name": "python3"
  },
  "language_info": {
   "codemirror_mode": {
    "name": "ipython",
    "version": 3
   },
   "file_extension": ".py",
   "mimetype": "text/x-python",
   "name": "python",
   "nbconvert_exporter": "python",
   "pygments_lexer": "ipython3",
   "version": "3.8.8"
  }
 },
 "nbformat": 4,
 "nbformat_minor": 5
}
