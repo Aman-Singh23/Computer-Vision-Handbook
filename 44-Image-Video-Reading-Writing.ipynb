{
 "cells": [
  {
   "cell_type": "code",
   "execution_count": 7,
   "id": "13a35a5b",
   "metadata": {},
   "outputs": [],
   "source": [
    "#Importing opencv\n",
    "import cv2"
   ]
  },
  {
   "cell_type": "markdown",
   "id": "696ad062",
   "metadata": {},
   "source": [
    "## For Images"
   ]
  },
  {
   "cell_type": "code",
   "execution_count": 5,
   "id": "d05b2a79",
   "metadata": {},
   "outputs": [],
   "source": [
    "#getting teh image from system\n",
    "# The image has to be stored at same location as file\n",
    "#By default it reads image in BGR format\n",
    "# Channel order is BGR in color mode\n",
    "\n",
    "image = cv2.imread('images229.jpg',cv2.IMREAD_COLOR)\n",
    "\n",
    "#To read image in grayscale format \n",
    "image_gray = cv2.imread('images229.jpg',cv2.IMREAD_GRAYSCALE)\n",
    "\n",
    "#To read images as it is (With alha mask or something else)\n",
    "image_as = cv2.imread('images229.jpg',cv2.IMREAD_UNCHANGED)\n",
    "\n",
    "# Function to display\n",
    "cv2.imshow('Test Image',image)\n",
    "\n",
    "#Now we have to hold above created windows other wise program will end\n",
    "#The parameter passed is Time in milliseconds\n",
    "cv2.waitKey()\n",
    "\n",
    "cv2.destroyAllWindows()"
   ]
  },
  {
   "cell_type": "markdown",
   "id": "456ec916",
   "metadata": {},
   "source": [
    "## For Videos"
   ]
  },
  {
   "cell_type": "code",
   "execution_count": 16,
   "id": "af6ca959",
   "metadata": {},
   "outputs": [
    {
     "name": "stdout",
     "output_type": "stream",
     "text": [
      "4\n",
      "3\n",
      "Frames are 30.0\n"
     ]
    }
   ],
   "source": [
    "# Instance of video capture\n",
    "cap = cv2.VideoCapture(0)\n",
    "\n",
    "#Checking if the camera is opened or not\n",
    "opened = cap.isOpened()\n",
    "\n",
    "#fourcc - four character code for determining the codec of the video file\n",
    "# fourcc = cv2.VideoWriter_fourcc(c1,c2,c3,c4)\n",
    "fourcc = cv2.VideoWriter_fourcc(*'XVID')\n",
    "\n",
    "#Getting the properties of the video using video capture instance\n",
    "#width = int(cv2.CAP_PROP_FRAME_WIDTH)\n",
    "#height = int(cv2.CAP_PROP_FRAME_HEIGHT)\n",
    "fps = cap.get(cv2.CAP_PROP_FPS)\n",
    "\n",
    "print('Frames are {}'.format(fps))\n",
    "\n",
    "# output video writer creation\n",
    "out = cv2.VideoWriter('sample.mp4', fourcc, fps, (640, 480))\n",
    "\n",
    "\n",
    "#Showing and storing the live camera feed\n",
    "#Check if camera is opened\n",
    "if(opened):\n",
    "    \n",
    "    #Run until it remains open\n",
    "    while(cap.isOpened()):\n",
    "        \n",
    "        #Get the frame from Video capture Instance\n",
    "        ret, frame = cap.read()\n",
    "        \n",
    "        #return ret Variable tells if the frame is returned successfully\n",
    "        if(ret == True):\n",
    "            cv2.imshow('winname',frame)\n",
    "            \n",
    "            #Writing the frame to video output\n",
    "            out.write(frame)\n",
    "            \n",
    "            #Wait for 2 milliseconds for each frame \n",
    "            #If user press 'esc' key then exit loop\n",
    "            if cv2.waitKey(1) & 0xFF == ord('q'):\n",
    "                break\n",
    "                \n",
    "out.release()\n",
    "cap.release()\n",
    "cv2.destroyAllWindows()"
   ]
  },
  {
   "cell_type": "code",
   "execution_count": null,
   "id": "48c101c3",
   "metadata": {},
   "outputs": [],
   "source": []
  },
  {
   "cell_type": "code",
   "execution_count": null,
   "id": "d60998a4",
   "metadata": {},
   "outputs": [],
   "source": []
  },
  {
   "cell_type": "code",
   "execution_count": null,
   "id": "60c50996",
   "metadata": {},
   "outputs": [],
   "source": []
  }
 ],
 "metadata": {
  "kernelspec": {
   "display_name": "Python 3",
   "language": "python",
   "name": "python3"
  },
  "language_info": {
   "codemirror_mode": {
    "name": "ipython",
    "version": 3
   },
   "file_extension": ".py",
   "mimetype": "text/x-python",
   "name": "python",
   "nbconvert_exporter": "python",
   "pygments_lexer": "ipython3",
   "version": "3.8.8"
  }
 },
 "nbformat": 4,
 "nbformat_minor": 5
}
