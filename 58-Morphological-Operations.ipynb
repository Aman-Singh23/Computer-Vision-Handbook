{
 "cells": [
  {
   "cell_type": "code",
   "execution_count": 1,
   "id": "131362b1",
   "metadata": {},
   "outputs": [],
   "source": [
    "import cv2\n",
    "import numpy as np"
   ]
  },
  {
   "cell_type": "code",
   "execution_count": 2,
   "id": "2ce98466",
   "metadata": {},
   "outputs": [],
   "source": [
    "img = cv2.imread('alpha_c.png')\n",
    "img = cv2.cvtColor(img, cv2.COLOR_BGR2GRAY)"
   ]
  },
  {
   "cell_type": "code",
   "execution_count": 3,
   "id": "9f1f53f5",
   "metadata": {},
   "outputs": [],
   "source": [
    "kernel = np.ones((5,5),dtype=np.uint8)\n",
    "# or\n",
    "#cv2.getStructuringElement(cv2.MORPH_RECT,(5,5))"
   ]
  },
  {
   "cell_type": "code",
   "execution_count": 4,
   "id": "de20655f",
   "metadata": {},
   "outputs": [],
   "source": [
    "erosion = cv2.erode(img, kernel, iterations = 1)\n",
    "dilation = cv2.dilate(img, kernel, iterations = 1)\n",
    "opening = cv2.morphologyEx(img, cv2.MORPH_OPEN, kernel)\n",
    "closing = cv2.morphologyEx(img, cv2.MORPH_CLOSE, kernel)\n",
    "gradient = cv2.morphologyEx(img, cv2.MORPH_GRADIENT, kernel)\n",
    "tophat = cv2.morphologyEx(img, cv2.MORPH_TOPHAT, kernel)\n",
    "blackhat = cv2.morphologyEx(img, cv2.MORPH_BLACKHAT, kernel)"
   ]
  },
  {
   "cell_type": "code",
   "execution_count": 5,
   "id": "394717c9",
   "metadata": {},
   "outputs": [],
   "source": [
    "cv2.imshow('Erosion', erosion)\n",
    "cv2.imshow('Dilation', dilation)\n",
    "cv2.imshow('Opening', opening)\n",
    "cv2.imshow('Closing', closing)\n",
    "cv2.imshow('Gradient', gradient)\n",
    "cv2.imshow('Tophat', tophat)\n",
    "cv2.imshow('Blackhat', blackhat)\n",
    "cv2.waitKey()\n",
    "cv2.destroyAllWindows()"
   ]
  },
  {
   "cell_type": "code",
   "execution_count": null,
   "id": "067084d5",
   "metadata": {},
   "outputs": [],
   "source": []
  }
 ],
 "metadata": {
  "kernelspec": {
   "display_name": "Python 3",
   "language": "python",
   "name": "python3"
  },
  "language_info": {
   "codemirror_mode": {
    "name": "ipython",
    "version": 3
   },
   "file_extension": ".py",
   "mimetype": "text/x-python",
   "name": "python",
   "nbconvert_exporter": "python",
   "pygments_lexer": "ipython3",
   "version": "3.8.8"
  }
 },
 "nbformat": 4,
 "nbformat_minor": 5
}
