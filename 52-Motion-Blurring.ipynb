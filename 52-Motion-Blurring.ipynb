{
 "cells": [
  {
   "cell_type": "code",
   "execution_count": 1,
   "id": "0b293bff",
   "metadata": {},
   "outputs": [],
   "source": [
    "import cv2\n",
    "import numpy as np\n",
    "\n",
    "img = cv2.imread('images229.jpg')\n",
    "size = 15\n",
    "\n",
    "kernel = np.zeros((size,size))\n",
    "kernel[int((size-1)/2),:] = np.ones(size)\n",
    "kernel = kernel/size\n",
    "\n",
    "output  = cv2.filter2D(img, -1, kernel)\n",
    "cv2.imshow('winname', output)\n",
    "cv2.imshow('winname1', img)\n",
    "cv2.waitKey(0)\n",
    "cv2.destroyAllWindows()"
   ]
  }
 ],
 "metadata": {
  "kernelspec": {
   "display_name": "Python 3",
   "language": "python",
   "name": "python3"
  },
  "language_info": {
   "codemirror_mode": {
    "name": "ipython",
    "version": 3
   },
   "file_extension": ".py",
   "mimetype": "text/x-python",
   "name": "python",
   "nbconvert_exporter": "python",
   "pygments_lexer": "ipython3",
   "version": "3.8.8"
  }
 },
 "nbformat": 4,
 "nbformat_minor": 5
}
