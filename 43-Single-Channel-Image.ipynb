{
 "cells": [
  {
   "cell_type": "markdown",
   "id": "de46bc6d",
   "metadata": {},
   "source": [
    "# Single Channel Image"
   ]
  },
  {
   "cell_type": "code",
   "execution_count": 1,
   "id": "16fb9130",
   "metadata": {},
   "outputs": [],
   "source": [
    "import numpy as np\n",
    "import cv2\n",
    "import matplotlib.pyplot as plt"
   ]
  },
  {
   "cell_type": "code",
   "execution_count": 2,
   "id": "fb4cb0c6",
   "metadata": {},
   "outputs": [],
   "source": [
    "image = np.zeros((500,500))\n",
    "image[:,:] = 100\n",
    "image = image[:,:]+10\n",
    "\n",
    "image[100:200,200:300] = 255\n",
    "\n",
    "cv2.imwrite('singleChannelImage.jpg',image)"
   ]
  },
  {
   "cell_type": "code",
   "execution_count": 3,
   "id": "e3836c71",
   "metadata": {},
   "outputs": [
    {
     "data": {
      "text/plain": [
       "<matplotlib.image.AxesImage at 0x1e174d362b0>"
      ]
     },
     "execution_count": 3,
     "metadata": {},
     "output_type": "execute_result"
    },
    {
     "data": {
      "image/png": "[encoded data removed]",
      "text/plain": [
       "<Figure size 432x288 with 1 Axes>"
      ]
     },
     "metadata": {
      "needs_background": "light"
     },
     "output_type": "display_data"
    }
   ],
   "source": [
    "plt.imshow(image)"
   ]
  }
 ],
 "metadata": {
  "kernelspec": {
   "display_name": "Python 3",
   "language": "python",
   "name": "python3"
  },
  "language_info": {
   "codemirror_mode": {
    "name": "ipython",
    "version": 3
   },
   "file_extension": ".py",
   "mimetype": "text/x-python",
   "name": "python",
   "nbconvert_exporter": "python",
   "pygments_lexer": "ipython3",
   "version": "3.8.8"
  }
 },
 "nbformat": 4,
 "nbformat_minor": 5
}
