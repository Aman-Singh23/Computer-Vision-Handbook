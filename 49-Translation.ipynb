{
 "cells": [
  {
   "cell_type": "code",
   "execution_count": 2,
   "id": "7f6f217e",
   "metadata": {},
   "outputs": [],
   "source": [
    "import cv2\n",
    "import numpy\n",
    "\n",
    "#Loading image from memory\n",
    "image = cv2.imread('images229.jpg')\n",
    "\n",
    "#Translation matrix\n",
    "matrix = numpy.float32([[1,0,100],[0,1,100]])\n",
    "\n",
    "#Applying the matrix to the image \n",
    "translated = cv2.warpAffine(image, matrix, (image.shape[1]+100,image.shape[0]+100))\n",
    "\n",
    "#Showing the image\n",
    "cv2.imshow('translation', translated)\n",
    "cv2.waitKey(4000)\n",
    "cv2.destroyAllWindows()"
   ]
  }
 ],
 "metadata": {
  "kernelspec": {
   "display_name": "Python 3",
   "language": "python",
   "name": "python3"
  },
  "language_info": {
   "codemirror_mode": {
    "name": "ipython",
    "version": 3
   },
   "file_extension": ".py",
   "mimetype": "text/x-python",
   "name": "python",
   "nbconvert_exporter": "python",
   "pygments_lexer": "ipython3",
   "version": "3.8.8"
  }
 },
 "nbformat": 4,
 "nbformat_minor": 5
}
