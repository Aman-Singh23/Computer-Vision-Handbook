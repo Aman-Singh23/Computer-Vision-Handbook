{
 "cells": [
  {
   "cell_type": "code",
   "execution_count": 1,
   "id": "b4b7b246",
   "metadata": {},
   "outputs": [],
   "source": [
    "#Getting the imports \n",
    "import cv2\n",
    "import numpy as np"
   ]
  },
  {
   "cell_type": "code",
   "execution_count": 2,
   "id": "ce186aa9",
   "metadata": {},
   "outputs": [],
   "source": [
    "#Reading the image\n",
    "img = cv2.imread('nature.jpg')"
   ]
  },
  {
   "cell_type": "code",
   "execution_count": 3,
   "id": "56e60c50",
   "metadata": {},
   "outputs": [],
   "source": [
    "#Gauusian kernel for sharpening\n",
    "gaussian_blur = cv2.GaussianBlur(img, (7,7), 2)"
   ]
  },
  {
   "cell_type": "code",
   "execution_count": 4,
   "id": "c605a997",
   "metadata": {},
   "outputs": [],
   "source": [
    "#Sharpening using addweighted()\n",
    "sharpened1 = cv2.addWeighted(img,1.5, gaussian_blur, -0.5, 0)\n",
    "sharpened2 = cv2.addWeighted(img,3.5, gaussian_blur, -2.5, 0)\n",
    "sharpened3 = cv2.addWeighted(img,7.5, gaussian_blur, -6.5, 0)"
   ]
  },
  {
   "cell_type": "code",
   "execution_count": 5,
   "id": "95addc31",
   "metadata": {},
   "outputs": [],
   "source": [
    "#Showing the sharpened Images\n",
    "cv2.imshow('Sharpened 3', sharpened3)\n",
    "cv2.imshow('Sharpened 2', sharpened2)\n",
    "cv2.imshow('Sharpened 1', sharpened1)\n",
    "cv2.imshow('original', img)\n",
    "cv2.waitKey(0)\n",
    "cv2.destroyAllWindows()"
   ]
  },
  {
   "cell_type": "code",
   "execution_count": null,
   "id": "02739893",
   "metadata": {},
   "outputs": [],
   "source": []
  }
 ],
 "metadata": {
  "kernelspec": {
   "display_name": "Python 3",
   "language": "python",
   "name": "python3"
  },
  "language_info": {
   "codemirror_mode": {
    "name": "ipython",
    "version": 3
   },
   "file_extension": ".py",
   "mimetype": "text/x-python",
   "name": "python",
   "nbconvert_exporter": "python",
   "pygments_lexer": "ipython3",
   "version": "3.8.8"
  }
 },
 "nbformat": 4,
 "nbformat_minor": 5
}
