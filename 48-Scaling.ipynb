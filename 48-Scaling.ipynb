{
 "cells": [
  {
   "cell_type": "code",
   "execution_count": 1,
   "id": "efa43f23",
   "metadata": {},
   "outputs": [],
   "source": [
    "import cv2\n",
    "import numpy as np"
   ]
  },
  {
   "cell_type": "code",
   "execution_count": 2,
   "id": "28c581b5",
   "metadata": {},
   "outputs": [],
   "source": [
    "#Scaling operation\n",
    "#Reading original Image\n",
    "image = cv2.imread('images229.jpg')"
   ]
  },
  {
   "cell_type": "code",
   "execution_count": 3,
   "id": "4f8226d7",
   "metadata": {},
   "outputs": [],
   "source": [
    "#image_sized = cv2.resize(image, (300,300))"
   ]
  },
  {
   "cell_type": "code",
   "execution_count": 4,
   "id": "47f9f619",
   "metadata": {},
   "outputs": [],
   "source": [
    "#Resizing image using Linear interpolation\n",
    "image_re_linear = cv2.resize(image, None, fx=5.5,fy=5.5, interpolation=cv2.INTER_LINEAR)"
   ]
  },
  {
   "cell_type": "code",
   "execution_count": 5,
   "id": "23334340",
   "metadata": {},
   "outputs": [],
   "source": [
    "#Resizing using Cubic interpolation\n",
    "image_re_cubic = cv2.resize(image, None, fx=5.5,fy=5.5, interpolation=cv2.INTER_CUBIC)"
   ]
  },
  {
   "cell_type": "code",
   "execution_count": 7,
   "id": "563e6c66",
   "metadata": {},
   "outputs": [],
   "source": [
    "#Showing all three images\n",
    "cv2.imshow('Linear', image_re_linear)\n",
    "cv2.imshow('Cbubic', image_re_cubic)\n",
    "cv2.imshow('original', image)\n",
    "\n",
    "if(cv2.waitKey()==ord('q')):\n",
    "    cv2.destroyAllWindows()"
   ]
  }
 ],
 "metadata": {
  "kernelspec": {
   "display_name": "Python 3",
   "language": "python",
   "name": "python3"
  },
  "language_info": {
   "codemirror_mode": {
    "name": "ipython",
    "version": 3
   },
   "file_extension": ".py",
   "mimetype": "text/x-python",
   "name": "python",
   "nbconvert_exporter": "python",
   "pygments_lexer": "ipython3",
   "version": "3.8.8"
  }
 },
 "nbformat": 4,
 "nbformat_minor": 5
}
