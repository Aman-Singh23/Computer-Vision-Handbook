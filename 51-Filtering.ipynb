{
 "cells": [
  {
   "cell_type": "code",
   "execution_count": 2,
   "id": "c698ea92",
   "metadata": {},
   "outputs": [],
   "source": [
    "#importing the modules\n",
    "import cv2\n",
    "import numpy as np\n",
    "\n",
    "\n",
    "#Import the image\n",
    "img = cv2.imread('images229.jpg')\n",
    "\n",
    "#Form the filters\n",
    "kernel_identity = np.array([[0,0,0],[0,1,0],[0,0,0]])\n",
    "kernel_3  = np.ones((3,3), dtype=np.float32) / 9.0\n",
    "kernel_11 = np.ones((11,11), dtype=np.float32) / 121.0\n",
    "\n",
    "#Applyt the filters\n",
    "output1 = cv2.filter2D(img,-1,kernel_identity)\n",
    "output2 = cv2.filter2D(img, -1, kernel_3)\n",
    "output3 = cv2.filter2D(img,-1 , kernel_11)\n",
    "\n",
    "#Show the image\n",
    "cv2.imshow('same', output1)\n",
    "cv2.imshow('3 blur', output2)\n",
    "cv2.imshow('11 blur', output3)\n",
    "cv2.waitKey(0)\n",
    "cv2.destroyAllWindows()"
   ]
  }
 ],
 "metadata": {
  "kernelspec": {
   "display_name": "Python 3",
   "language": "python",
   "name": "python3"
  },
  "language_info": {
   "codemirror_mode": {
    "name": "ipython",
    "version": 3
   },
   "file_extension": ".py",
   "mimetype": "text/x-python",
   "name": "python",
   "nbconvert_exporter": "python",
   "pygments_lexer": "ipython3",
   "version": "3.8.8"
  }
 },
 "nbformat": 4,
 "nbformat_minor": 5
}
